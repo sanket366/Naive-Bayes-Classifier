{
 "cells": [
  {
   "cell_type": "code",
   "execution_count": 67,
   "id": "357caef8",
   "metadata": {},
   "outputs": [],
   "source": [
    "import math\n",
    "import pandas as pd\n",
    "import numpy as np\n",
    "import csv\n",
    "from sklearn.model_selection import train_test_split"
   ]
  },
  {
   "cell_type": "code",
   "execution_count": 68,
   "id": "96841390",
   "metadata": {},
   "outputs": [],
   "source": [
    "with open('./rt_reviews.csv', 'r', encoding='ISO-8859-1') as file:\n",
    "    reader = csv.reader(file, delimiter=',')\n",
    "    headers = next(reader)  # read the header row\n",
    "    data = [dict(zip(headers, row)) for row in reader]"
   ]
  },
  {
   "cell_type": "code",
   "execution_count": 69,
   "id": "7d7855b8",
   "metadata": {},
   "outputs": [
    {
     "name": "stdout",
     "output_type": "stream",
     "text": [
      "Freshness:  fresh\n",
      "Review:   Manakamana doesn't answer any questions, yet makes its point: Nepal, like the rest of our planet, is a picturesque but far from peaceable kingdom.\n"
     ]
    }
   ],
   "source": [
    "#printing the first row of data\n",
    "print(\"Freshness: \",data[0][\"Freshness\"])\n",
    "print(\"Review: \",data[0][\"Review\"])"
   ]
  },
  {
   "cell_type": "code",
   "execution_count": 70,
   "id": "665665d5",
   "metadata": {},
   "outputs": [
    {
     "name": "stdout",
     "output_type": "stream",
     "text": [
      "The size of the train data is: 384000\n",
      "The size of the development data is: 48000\n",
      "The size of the test data is: 48000\n",
      "Sample for Train:  {'Freshness': 'fresh', 'Review': \" Manakamana doesn't answer any questions, yet makes its point: Nepal, like the rest of our planet, is a picturesque but far from peaceable kingdom.\"}\n",
      "Sample for Development:  {'Freshness': 'rotten', 'Review': ' A film that abuses its ridiculous premise and never gives necessary time to delve into the motivations of its human characters who are overshadowed by the monster. [Full review in Spanish]'}\n",
      "Sample for Test:  {'Freshness': 'fresh', 'Review': \" It's the directorial debut of Clea Duvall and it's very much an actors' showcase: eight characters with heavy baggage doing their best to ignore the weight.\"}\n"
     ]
    }
   ],
   "source": [
    "#Splitting into train and test data\n",
    "data_size = len(data)\n",
    "train_size = math.ceil(0.8 * data_size)\n",
    "dev_size = math.ceil(0.1 * data_size)\n",
    "test_size = math.ceil(0.1 * data_size)\n",
    "\n",
    "train_data = data[:train_size]\n",
    "dev_data = data[train_size:train_size+dev_size]\n",
    "test_data = data[train_size+dev_size:]\n",
    "\n",
    "print(\"The size of the train data is:\", len(train_data))\n",
    "print(\"The size of the development data is:\", len(dev_data))\n",
    "print(\"The size of the test data is:\", len(test_data))\n",
    "\n",
    "print(\"Sample for Train: \", train_data[0])\n",
    "print(\"Sample for Development: \", dev_data[0])\n",
    "print(\"Sample for Test: \", test_data[0])\n"
   ]
  },
  {
   "cell_type": "code",
   "execution_count": 71,
   "id": "76e262bb",
   "metadata": {},
   "outputs": [
    {
     "name": "stdout",
     "output_type": "stream",
     "text": [
      "Sample of Vocabulary list before filtering:  those\n",
      "Sample of Word count before filtering:  those : 1\n"
     ]
    }
   ],
   "source": [
    "#Create a function to preprocess the text data\n",
    "import re\n",
    "\n",
    "def preprocess_text(text):\n",
    "# Convert text to lowercase\n",
    "    text = text.lower()\n",
    "# Remove non-alphabetic characters\n",
    "    text = re.sub('[^A-Za-z]+', ' ', text)\n",
    "# Split text into words\n",
    "    words = text.split()\n",
    "# Remove stop words\n",
    "    stopwords = ['the', 'a', 'an', 'and', 'or', 'in', 'of', 'to', 'for', 'with', 'on', 'at', 'that', 'this']\n",
    "    words = [w for w in words if w not in stopwords]\n",
    "    return words\n",
    "\n",
    "#Create the vocabulary and word count dictionary\n",
    "vocabulary = []\n",
    "v_count = {}\n",
    "\n",
    "for row in train_data:\n",
    "# Preprocess the text\n",
    "    words = preprocess_text(row[\"Review\"])\n",
    "for word in words:\n",
    "# If the word is not already in the dictionary, add it with a count of 1\n",
    "    if word not in v_count:\n",
    "        vocabulary.append(word)\n",
    "        v_count[word] = 1\n",
    "# If the word is already in the dictionary, increment its count\n",
    "    else:\n",
    "        v_count[word] += 1\n",
    "\n",
    "#Remove rare occurring words\n",
    "rare_count = 5\n",
    "filtered_vocabulary = []\n",
    "filtered_v_count = {}\n",
    "for vocab in v_count:\n",
    "    if v_count[vocab] >= rare_count and vocab != \"\":\n",
    "        filtered_vocabulary.append(vocab)\n",
    "        filtered_v_count[vocab] = v_count[vocab]\n",
    "\n",
    "#Display one Sample:\n",
    "for word in vocabulary:\n",
    "    print(\"Sample of Vocabulary list before filtering: \", word)\n",
    "    print(\"Sample of Word count before filtering: \", word, \":\", v_count[word])\n",
    "    break\n",
    "for word in filtered_vocabulary:\n",
    "    print(\"\\nSample of Vocabulary list after filtering: \", word)\n",
    "    print(\"Sample of Word count after filtering: \", word, \":\", filtered_v_count[word])\n",
    "    break\n",
    "\n"
   ]
  },
  {
   "cell_type": "code",
   "execution_count": 72,
   "id": "06279315",
   "metadata": {},
   "outputs": [
    {
     "name": "stdout",
     "output_type": "stream",
     "text": [
      "Number of Positive documents:  192306\n"
     ]
    }
   ],
   "source": [
    "#Positive Documents\n",
    "Positive_reviews = []\n",
    "\n",
    "for row in train_data:\n",
    "    if row[\"Freshness\"] == \"fresh\":\n",
    "        Positive_reviews.append(row[\"Review\"].lower())\n",
    "\n",
    "#Display number of positive documents:\n",
    "print(\"Number of Positive documents: \", len(Positive_reviews))\n"
   ]
  },
  {
   "cell_type": "code",
   "execution_count": 73,
   "id": "ef97591d",
   "metadata": {},
   "outputs": [
    {
     "name": "stdout",
     "output_type": "stream",
     "text": [
      "Number of \"Excellent\" in positive reviews: 834\n"
     ]
    }
   ],
   "source": [
    "def count_word_in_reviews(word, reviews):\n",
    "    \"\"\"\n",
    "    Count the number of times a given word appears in a list of reviews.\n",
    "\n",
    "    Args:\n",
    "    word (str): The word to count.\n",
    "    reviews (list): A list of reviews.\n",
    "\n",
    "    Returns:\n",
    "    int: The number of times the word appears in the reviews.\n",
    "    \"\"\"\n",
    "    count = 0\n",
    "    for review in reviews:\n",
    "        words = review.lower().split()\n",
    "        if word.lower() in words:\n",
    "            count += 1\n",
    "    return count\n",
    "\n",
    "Positive_reviews = [row['Review'] for row in train_data if row['Freshness'] == 'fresh']\n",
    "word = 'Excellent'\n",
    "count = count_word_in_reviews(word, Positive_reviews)\n",
    "print(f'Number of \"{word}\" in positive reviews: {count}')\n"
   ]
  },
  {
   "cell_type": "code",
   "execution_count": 74,
   "id": "d9fe17bc",
   "metadata": {},
   "outputs": [
    {
     "name": "stdout",
     "output_type": "stream",
     "text": [
      "Number of Negative documents:  191694\n"
     ]
    }
   ],
   "source": [
    "Negetive_reviews = []\n",
    "\n",
    "for row in train_data:\n",
    "    if row[\"Freshness\"]==\"rotten\":\n",
    "        Negetive_reviews.append([row[\"Review\"].lower()])\n",
    "\n",
    "#Display number of negative documents:\n",
    "print(\"Number of Negative documents: \", len(Negetive_reviews))"
   ]
  },
  {
   "cell_type": "code",
   "execution_count": 75,
   "id": "79f58f41",
   "metadata": {},
   "outputs": [
    {
     "name": "stdout",
     "output_type": "stream",
     "text": [
      "Number of \"Excellent\" in Negative documents:  1\n"
     ]
    }
   ],
   "source": [
    "def count_word_occurrences(word, reviews):\n",
    "    word = word.lower()\n",
    "    word_count = {}\n",
    "    word_count[word] = 0\n",
    "    for row in reviews:\n",
    "        review = list(map(str, str(row).split(\" \")))\n",
    "        if word in review:\n",
    "            word_count[word] += 1\n",
    "            return word_count[word]\n",
    "print('Number of \"Excellent\" in Negative documents: ', count_word_occurrences(\"Excellent\", Negetive_reviews))\n"
   ]
  },
  {
   "cell_type": "code",
   "execution_count": 76,
   "id": "dff6bbd2",
   "metadata": {},
   "outputs": [
    {
     "name": "stdout",
     "output_type": "stream",
     "text": [
      "Number of \"Excellent\" in positive reviews: 834\n",
      "The Probability of 'the' occurring in dataset:  0.6345859375\n",
      "Conditional Probability P(the|Positive): 0.6357939950\n",
      "Conditional Probability P(the|Negative): 0.6333740232\n"
     ]
    }
   ],
   "source": [
    "# Calculating the probability and conditional probablity of the words occuring\n",
    "def count_word_in_reviews(word, reviews):\n",
    "    \"\"\"\n",
    "    Count the number of times a given word appears in a list of reviews.\n",
    "\n",
    "    Args:\n",
    "    word (str): The word to count.\n",
    "    reviews (list): A list of reviews.\n",
    "\n",
    "    Returns:\n",
    "    int: The number of times the word appears in the reviews.\n",
    "    \"\"\"\n",
    "    count = 0\n",
    "    for review in reviews:\n",
    "        words = review.lower().split()\n",
    "        if word.lower() in words:\n",
    "            count += 1\n",
    "    return count\n",
    "\n",
    "\n",
    "Positive_reviews = [row['Review'] for row in train_data if row['Freshness'] == 'fresh']\n",
    "word = 'Excellent'\n",
    "count = count_word_in_reviews(word, Positive_reviews)\n",
    "print(f'Number of \"{word}\" in positive reviews: {count}')\n",
    "\n",
    "\n",
    "def P(word):\n",
    "    word = word.lower()\n",
    "    count = 0\n",
    "    doc_count = len(train_data)\n",
    "    for review in train_data:\n",
    "        words = review['Review'].lower().split()\n",
    "        if word in words:\n",
    "            count += 1\n",
    "\n",
    "    P_of_word = f'{count/doc_count:.10f}'\n",
    "    return P_of_word\n",
    "\n",
    "\n",
    "def P_CP(word):\n",
    "    P_CP_of_vocabulary = {}\n",
    "    a = count_word_in_reviews(word, Positive_reviews) / len(Positive_reviews)\n",
    "    P_CP_of_vocabulary[word] = f'{a:.10f}'\n",
    "    return P_CP_of_vocabulary[word]\n",
    "\n",
    "\n",
    "def N_CP(word):\n",
    "    N_CP_of_vocabulary = {}\n",
    "    a = count_word_in_reviews(word, Negative_reviews) / len(Negative_reviews)\n",
    "    N_CP_of_vocabulary[word] = f'{a:.10f}'\n",
    "    return N_CP_of_vocabulary[word]\n",
    "\n",
    "\n",
    "Negative_reviews = [row['Review'] for row in train_data if row['Freshness'] == 'rotten']\n",
    "\n",
    "# OUTPUT\n",
    "print(\"The Probability of 'the' occurring in dataset: \", P(\"the\"))\n",
    "print(\"Conditional Probability P(the|Positive):\", P_CP(\"the\"))\n",
    "print(\"Conditional Probability P(the|Negative):\", N_CP(\"the\"))\n",
    "\n",
    "\n"
   ]
  },
  {
   "cell_type": "code",
   "execution_count": 77,
   "id": "0e088536",
   "metadata": {},
   "outputs": [],
   "source": [
    "#calculate using development data\n",
    "def predict_class(review):\n",
    "    classes = {}\n",
    "    words = set(map(str, str(review).lower().split(\" \")))\n",
    "    words = [word for word in words if word in filtered_vocabulary and len(word)>3]\n",
    "\n",
    "    pp = 1\n",
    "    np = 1\n",
    "\n",
    "    for word in words:\n",
    "        pp *= float(P_CP(word, Positive_reviews))\n",
    "        np *= float(N_CP(word, Negative_reviews))\n",
    "\n",
    "    if np < pp:\n",
    "        return \"fresh\"\n",
    "    else:\n",
    "        return \"rotten\"\n"
   ]
  },
  {
   "cell_type": "code",
   "execution_count": 78,
   "id": "2fc18450",
   "metadata": {},
   "outputs": [],
   "source": [
    "import pandas as pd\n",
    "def accuracy(kstart, kend):\n",
    "    equal=0\n",
    "    unequal = 0\n",
    "    iterations = 1\n",
    "    accuracy = []\n",
    "    loss = []\n",
    "    df = pd.DataFrame(development)\n",
    "    for row in df.values:\n",
    "        print(\"Iteration\",iterations-kstart,\"of\", k)\n",
    "        iterations +=1\n",
    "        if iterations >= kstart:\n",
    "\n",
    "            if predict_class(row[1]) == row[0]:\n",
    "                equal+=1\n",
    "                accuracy.append((equal/iterations)*100)\n",
    "            else:\n",
    "                unequal +=1\n",
    "                loss.append((unequal/iterations)*100)\n",
    "            if iterations==k:\n",
    "                break\n",
    "            print(\"Classified\",iterations,\" and current accuracy is:\",accuracy[iterations-1])\n",
    "    \n",
    "        if len(accuracy)==0:\n",
    "            accuracy.append(0)\n",
    "        if len(loss)==0:\n",
    "            loss.append(0)\n",
    "\n",
    "    return [accuracy,loss]"
   ]
  },
  {
   "cell_type": "code",
   "execution_count": 79,
   "id": "762df2e1",
   "metadata": {},
   "outputs": [
    {
     "ename": "NameError",
     "evalue": "name 'development' is not defined",
     "output_type": "error",
     "traceback": [
      "\u001b[0;31m---------------------------------------------------------------------------\u001b[0m",
      "\u001b[0;31mNameError\u001b[0m                                 Traceback (most recent call last)",
      "Cell \u001b[0;32mIn[79], line 1\u001b[0m\n\u001b[0;32m----> 1\u001b[0m \u001b[38;5;28mprint\u001b[39m(\u001b[38;5;124m\"\u001b[39m\u001b[38;5;124mThe accuracy of k=10 reviews in dev set:\u001b[39m\u001b[38;5;124m\"\u001b[39m, \u001b[43maccuracy\u001b[49m\u001b[43m(\u001b[49m\u001b[38;5;241;43m10\u001b[39;49m\u001b[43m,\u001b[49m\u001b[38;5;241;43m20\u001b[39;49m\u001b[43m)\u001b[49m)\n",
      "Cell \u001b[0;32mIn[78], line 8\u001b[0m, in \u001b[0;36maccuracy\u001b[0;34m(kstart, kend)\u001b[0m\n\u001b[1;32m      6\u001b[0m accuracy \u001b[38;5;241m=\u001b[39m []\n\u001b[1;32m      7\u001b[0m loss \u001b[38;5;241m=\u001b[39m []\n\u001b[0;32m----> 8\u001b[0m df \u001b[38;5;241m=\u001b[39m pd\u001b[38;5;241m.\u001b[39mDataFrame(\u001b[43mdevelopment\u001b[49m)\n\u001b[1;32m      9\u001b[0m \u001b[38;5;28;01mfor\u001b[39;00m row \u001b[38;5;129;01min\u001b[39;00m df\u001b[38;5;241m.\u001b[39mvalues:\n\u001b[1;32m     10\u001b[0m     \u001b[38;5;28mprint\u001b[39m(\u001b[38;5;124m\"\u001b[39m\u001b[38;5;124mIteration\u001b[39m\u001b[38;5;124m\"\u001b[39m,iterations\u001b[38;5;241m-\u001b[39mkstart,\u001b[38;5;124m\"\u001b[39m\u001b[38;5;124mof\u001b[39m\u001b[38;5;124m\"\u001b[39m, k)\n",
      "\u001b[0;31mNameError\u001b[0m: name 'development' is not defined"
     ]
    }
   ],
   "source": [
    "print(\"The accuracy of k=10 reviews in dev set:\", accuracy(10,20))"
   ]
  },
  {
   "cell_type": "code",
   "execution_count": null,
   "id": "246b3aa0",
   "metadata": {},
   "outputs": [],
   "source": []
  }
 ],
 "metadata": {
  "kernelspec": {
   "display_name": "Python 3 (ipykernel)",
   "language": "python",
   "name": "python3"
  },
  "language_info": {
   "codemirror_mode": {
    "name": "ipython",
    "version": 3
   },
   "file_extension": ".py",
   "mimetype": "text/x-python",
   "name": "python",
   "nbconvert_exporter": "python",
   "pygments_lexer": "ipython3",
   "version": "3.10.9"
  }
 },
 "nbformat": 4,
 "nbformat_minor": 5
}
